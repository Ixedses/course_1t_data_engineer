{
 "cells": [
  {
   "cell_type": "code",
   "execution_count": 1,
   "metadata": {},
   "outputs": [],
   "source": [
    "from pyspark.sql import SparkSession\n",
    "import pyspark.sql.functions as F\n",
    "import pyspark.sql.types as T\n",
    "import datetime as DT\n",
    "import random\n",
    "\n",
    "spark = SparkSession.builder\\\n",
    "        .master(\"local\")\\\n",
    "        .appName('PySpark')\\\n",
    "        .config('spark.driver.bindAddress','localhost')\\\n",
    "        .config('spark.ui.port','4040')\\\n",
    "        .getOrCreate()"
   ]
  },
  {
   "cell_type": "markdown",
   "metadata": {},
   "source": [
    "Создайте схему будущего фрейма данных. Схема должна включать следующие атрибуты:\n",
    "\n",
    "·   id -  уникальный идентификатор посетителя сайта. Тип – последовательность чисел фиксированной длины. Данное поле не является первичным ключом.\n",
    "\n",
    "·   timestamp – дата и время события в формате unix timestamp.\n",
    "\n",
    "·   type – тип события, значение из списка (факт посещения(visit), клик по визуальному элементу страницы(click), скролл(scroll), перед на другую страницу(move)).\n",
    "\n",
    "·   page_id – id текущей страницы. Тип - последовательность чисел фиксированной длины.\n",
    "\n",
    "·   tag – каждая страница с новостью размечается редакцией специальными тегами, которые отражают тематику конкретной новости со страницы. Возможный список тематик: политика, спорт, медицина и т.д.\n",
    "\n",
    "·   sign – наличие у пользователя личного кабинета. Значения – True/False."
   ]
  },
  {
   "cell_type": "code",
   "execution_count": 2,
   "metadata": {},
   "outputs": [],
   "source": [
    "schema = T.StructType ([\n",
    "    T.StructField('id', T.IntegerType(), True),\n",
    "    T.StructField('timestamp',T.LongType(), True),\n",
    "    T.StructField('type', T.StringType(), True),\n",
    "    T.StructField('page_id', T.IntegerType(), True),\n",
    "    T.StructField('tag', T.StringType(), True),\n",
    "    T.StructField('sign', T.BooleanType(), True)\n",
    "    ])"
   ]
  },
  {
   "cell_type": "markdown",
   "metadata": {},
   "source": [
    "Создайте датафрейм с описанной выше схемой данных.Наполните датафрейм данными."
   ]
  },
  {
   "cell_type": "code",
   "execution_count": 3,
   "metadata": {},
   "outputs": [],
   "source": [
    "type_list = ['visit', 'click', 'scroll', 'move']\n",
    "tag_list = ['politics', 'sports', 'medicine', 'technology', 'science', 'philosophy', 'religion', 'art', 'travel']\n",
    "boolean_list = [True, False]"
   ]
  },
  {
   "cell_type": "code",
   "execution_count": 4,
   "metadata": {},
   "outputs": [],
   "source": [
    "iters = 500\n",
    "vals = [\n",
    "    {\"id\" : int(random.randrange(1000, 1100)),\n",
    "    \"timestamp\" : round(DT.datetime.timestamp(DT.datetime.now() - DT.timedelta(random.random()))),\n",
    "    \"type\" : str(random.choice(type_list)),\n",
    "    \"page_id\" : int(random.randrange(100000, 100075)),\n",
    "    \"tag\" : str(random.choice(tag_list)),\n",
    "    \"sign\" : bool(random.choice(boolean_list))\n",
    "    }\n",
    "    for _ in range(iters)\n",
    "]"
   ]
  },
  {
   "cell_type": "code",
   "execution_count": 5,
   "metadata": {},
   "outputs": [],
   "source": [
    "df = spark.createDataFrame(data= vals, schema= schema)"
   ]
  },
  {
   "cell_type": "code",
   "execution_count": 6,
   "metadata": {},
   "outputs": [
    {
     "name": "stdout",
     "output_type": "stream",
     "text": [
      "+----+----------+------+-------+-------+-----+\n",
      "|  id| timestamp|  type|page_id|    tag| sign|\n",
      "+----+----------+------+-------+-------+-----+\n",
      "|1031|1669481379|  move| 100033|science| true|\n",
      "|1025|1669513563|scroll| 100060| travel| true|\n",
      "|1066|1669514543|scroll| 100073|science|false|\n",
      "+----+----------+------+-------+-------+-----+\n",
      "only showing top 3 rows\n",
      "\n"
     ]
    }
   ],
   "source": [
    "df.show(3)"
   ]
  },
  {
   "cell_type": "markdown",
   "metadata": {},
   "source": [
    "Вывести топ-5 самых активных посетителей сайта"
   ]
  },
  {
   "cell_type": "code",
   "execution_count": 7,
   "metadata": {},
   "outputs": [
    {
     "name": "stdout",
     "output_type": "stream",
     "text": [
      "+----+-----+\n",
      "|  id|count|\n",
      "+----+-----+\n",
      "|1024|   11|\n",
      "|1019|   10|\n",
      "|1081|    9|\n",
      "|1089|    9|\n",
      "|1078|    9|\n",
      "+----+-----+\n",
      "only showing top 5 rows\n",
      "\n"
     ]
    }
   ],
   "source": [
    "df.groupBy(\"id\")\\\n",
    "    .count()\\\n",
    "    .orderBy(\"count\", ascending=False)\\\n",
    "    .show(5)\n"
   ]
  },
  {
   "cell_type": "markdown",
   "metadata": {},
   "source": [
    "Посчитать процент посетителей, у которых есть ЛК"
   ]
  },
  {
   "cell_type": "code",
   "execution_count": 8,
   "metadata": {},
   "outputs": [
    {
     "data": {
      "text/plain": [
       "50.8"
      ]
     },
     "execution_count": 8,
     "metadata": {},
     "output_type": "execute_result"
    }
   ],
   "source": [
    "df.filter(df.sign == True).count() / df.count() * 100"
   ]
  },
  {
   "cell_type": "markdown",
   "metadata": {},
   "source": [
    "Вывести топ-5 страниц сайта по показателю общего кол-ва кликов на данной странице"
   ]
  },
  {
   "cell_type": "code",
   "execution_count": 9,
   "metadata": {},
   "outputs": [
    {
     "name": "stdout",
     "output_type": "stream",
     "text": [
      "+-------+-----+\n",
      "|page_id|count|\n",
      "+-------+-----+\n",
      "| 100074|    6|\n",
      "| 100028|    4|\n",
      "| 100060|    4|\n",
      "| 100070|    4|\n",
      "| 100027|    4|\n",
      "+-------+-----+\n",
      "only showing top 5 rows\n",
      "\n"
     ]
    }
   ],
   "source": [
    "df.filter(df.type == 'click')\\\n",
    "    .groupBy(\"page_id\")\\\n",
    "    .count()\\\n",
    "    .orderBy(\"count\", ascending=False)\\\n",
    "    .show(5)"
   ]
  },
  {
   "cell_type": "markdown",
   "metadata": {},
   "source": [
    "Добавьте столбец к фрейму данных со значением временного диапазона в рамках суток с размером окна – 4 часа(0-4, 4-8, 8-12 и т.д.)"
   ]
  },
  {
   "cell_type": "code",
   "execution_count": 10,
   "metadata": {},
   "outputs": [
    {
     "name": "stdout",
     "output_type": "stream",
     "text": [
      "+----+----------+------+-------+----------+-----+----------+\n",
      "|  id| timestamp|  type|page_id|       tag| sign|time_range|\n",
      "+----+----------+------+-------+----------+-----+----------+\n",
      "|1031|1669481379|  move| 100033|   science| true|     16-20|\n",
      "|1025|1669513563|scroll| 100060|    travel| true|       4-8|\n",
      "|1066|1669514543|scroll| 100073|   science|false|       4-8|\n",
      "|1024|1669515721|scroll| 100057|  politics|false|       4-8|\n",
      "|1076|1669536078|  move| 100042|  medicine| true|      8-12|\n",
      "|1015|1669456361| visit| 100061|    sports| true|     12-16|\n",
      "|1034|1669477124| visit| 100039|  politics|false|     16-20|\n",
      "|1076|1669463652|  move| 100061|       art|false|     12-16|\n",
      "|1076|1669505936|  move| 100060|technology|false|       0-4|\n",
      "|1076|1669468936| visit| 100034|philosophy|false|     16-20|\n",
      "+----+----------+------+-------+----------+-----+----------+\n",
      "only showing top 10 rows\n",
      "\n"
     ]
    }
   ],
   "source": [
    "df.withColumn('time_range', F.when(F.hour(F.from_unixtime('timestamp')) < 4, \"0-4\")\n",
    "                                .when((F.hour(F.from_unixtime('timestamp')) >= 4) & \n",
    "                                        (F.hour(F.from_unixtime('timestamp')) < 8), '4-8')\n",
    "                                .when((F.hour(F.from_unixtime('timestamp')) >= 8) & \n",
    "                                        (F.hour(F.from_unixtime('timestamp')) < 12), '8-12')\n",
    "                                .when((F.hour(F.from_unixtime('timestamp')) >= 12) & \n",
    "                                        (F.hour(F.from_unixtime('timestamp')) < 16), '12-16')\n",
    "                                .when((F.hour(F.from_unixtime('timestamp')) >= 16) & \n",
    "                                        (F.hour(F.from_unixtime('timestamp')) < 20), '16-20')\n",
    "                                .when((F.hour(F.from_unixtime('timestamp')) >= 20) & \n",
    "                                        (F.hour(F.from_unixtime('timestamp')) < 24), '20-24')\n",
    ").show(10)\n"
   ]
  },
  {
   "cell_type": "markdown",
   "metadata": {},
   "source": [
    "Выведите временной промежуток на основе предыдущего задания, в течение которого было больше всего активностей на сайте."
   ]
  },
  {
   "cell_type": "code",
   "execution_count": 11,
   "metadata": {},
   "outputs": [
    {
     "name": "stdout",
     "output_type": "stream",
     "text": [
      "+----------+-----+\n",
      "|time_range|count|\n",
      "+----------+-----+\n",
      "|     20-24|   95|\n",
      "|       4-8|   91|\n",
      "|       0-4|   88|\n",
      "|     12-16|   79|\n",
      "|     16-20|   74|\n",
      "|      8-12|   73|\n",
      "+----------+-----+\n",
      "\n"
     ]
    }
   ],
   "source": [
    "df.withColumn('time_range', F.when(F.hour(F.from_unixtime('timestamp')) < 4, \"0-4\")\n",
    "                                .when((F.hour(F.from_unixtime('timestamp')) >= 4) & \n",
    "                                        (F.hour(F.from_unixtime('timestamp')) < 8), '4-8')\n",
    "                                .when((F.hour(F.from_unixtime('timestamp')) >= 8) & \n",
    "                                        (F.hour(F.from_unixtime('timestamp')) < 12), '8-12')\n",
    "                                .when((F.hour(F.from_unixtime('timestamp')) >= 12) & \n",
    "                                        (F.hour(F.from_unixtime('timestamp')) < 16), '12-16')\n",
    "                                .when((F.hour(F.from_unixtime('timestamp')) >= 16) & \n",
    "                                        (F.hour(F.from_unixtime('timestamp')) < 20), '16-20')\n",
    "                                .when((F.hour(F.from_unixtime('timestamp')) >= 20) & \n",
    "                                        (F.hour(F.from_unixtime('timestamp')) < 24), '20-24')\n",
    ").groupBy(\"time_range\").count().orderBy(\"count\", ascending=False).show()\n"
   ]
  },
  {
   "cell_type": "markdown",
   "metadata": {},
   "source": [
    "Cоздайте второй фрейм данных, который будет содержать информацию о ЛК посетителя сайта со следующим списком атрибутов\n",
    "\n",
    "1.       Id – уникальный идентификатор личного кабинета\n",
    "\n",
    "2.       User_id – уникальный идентификатор посетителя\n",
    "\n",
    "3.       ФИО посетителя\n",
    "\n",
    "4.       Дату рождения посетителя \n",
    "\n",
    "5.       Дата создания ЛК"
   ]
  },
  {
   "cell_type": "code",
   "execution_count": 12,
   "metadata": {},
   "outputs": [],
   "source": [
    "schema_lk = T.StructType ([\n",
    "    T.StructField('id', T.IntegerType(), False),\n",
    "    T.StructField('user_id',T.IntegerType(), False),\n",
    "    T.StructField('last_name', T.StringType(), True),\n",
    "    T.StructField('name', T.StringType(), True),\n",
    "    T.StructField('patronymic', T.StringType(), True),\n",
    "    T.StructField('birth_date', T.StringType(), True),\n",
    "    T.StructField('registration_date', T.StringType(), True)\n",
    "    ])"
   ]
  },
  {
   "cell_type": "code",
   "execution_count": 13,
   "metadata": {},
   "outputs": [],
   "source": [
    "user_id = df.select('id').filter(df.sign == True).rdd.map(lambda row : row[0]).collect()\n",
    "name = ['Василий','Аркадий','Антон','Вадим','Александр','Алексей','Варлам','Золтан','Егор']\n",
    "last_name = ['Гагарин','Иванов','Шишкин','Шишов','Юдин','Баранов','Волков','Казаков','Карасёв']\n",
    "patronymic = ['Антонович','Геннадиевич','Ефремиевич','Климович','Макарович','Олегович','Парфентьевич','Созонович','Фридрихович']\n",
    "delta =  DT.timedelta (days = 12300)"
   ]
  },
  {
   "cell_type": "code",
   "execution_count": 14,
   "metadata": {},
   "outputs": [],
   "source": [
    "iters_lk = len(user_id)\n",
    "vals_lk = [\n",
    "    {\"id\" : int(random.randrange(1000, 1100)),\n",
    "    \"last_name\" : str(random.choice(last_name)),\n",
    "    \"name\" : str(random.choice(name)),\n",
    "    \"patronymic\" : str(random.choice(patronymic)),\n",
    "    \"birth_date\" : DT.datetime.strftime((DT.datetime.now() - DT.timedelta(days = (random.randrange(11000, 12100)))), \"%Y/%m/%d\"),\n",
    "    \"registration_date\" : DT.datetime.strftime((DT.datetime.now() - DT.timedelta(days = (random.randrange(500, 1100)))), \"%Y/%m/%d\")\n",
    "    }\n",
    "    for _ in range(iters_lk)\n",
    "]\n",
    "\n",
    "i=0\n",
    "for l in vals_lk:\n",
    "    l.update({\"user_id\" : user_id[i]})\n",
    "    i=i+1"
   ]
  },
  {
   "cell_type": "code",
   "execution_count": 15,
   "metadata": {},
   "outputs": [
    {
     "name": "stdout",
     "output_type": "stream",
     "text": [
      "+----+-------+---------+---------+-----------+----------+-----------------+\n",
      "|  id|user_id|last_name|     name| patronymic|birth_date|registration_date|\n",
      "+----+-------+---------+---------+-----------+----------+-----------------+\n",
      "|1075|   1031|   Волков|Александр|Геннадиевич|1991/12/30|       2021/06/02|\n",
      "|1095|   1025|     Юдин|  Василий|Геннадиевич|1990/04/22|       2020/12/18|\n",
      "|1074|   1076|  Гагарин|  Алексей|  Антонович|1992/09/02|       2020/05/07|\n",
      "|1093|   1015|  Гагарин|  Аркадий|Геннадиевич|1991/06/30|       2020/07/02|\n",
      "|1060|   1019|   Шишкин|   Варлам|Геннадиевич|1989/12/22|       2019/12/21|\n",
      "+----+-------+---------+---------+-----------+----------+-----------------+\n",
      "only showing top 5 rows\n",
      "\n"
     ]
    }
   ],
   "source": [
    "df_lk = spark.createDataFrame(data= vals_lk, schema= schema_lk)\n",
    "df_lk.show(5)"
   ]
  },
  {
   "cell_type": "markdown",
   "metadata": {},
   "source": [
    "Вывести фамилии посетителей, которые читали хотя бы одну новость про спорт."
   ]
  },
  {
   "cell_type": "code",
   "execution_count": 18,
   "metadata": {},
   "outputs": [
    {
     "name": "stdout",
     "output_type": "stream",
     "text": [
      "+---------+---------+------------+\n",
      "|last_name|     name|  patronymic|\n",
      "+---------+---------+------------+\n",
      "|    Шишов|   Варлам| Геннадиевич|\n",
      "|   Шишкин|     Егор|Парфентьевич|\n",
      "|  Баранов|Александр| Фридрихович|\n",
      "|    Шишов|  Алексей| Геннадиевич|\n",
      "|  Карасёв|   Золтан|    Климович|\n",
      "+---------+---------+------------+\n",
      "only showing top 5 rows\n",
      "\n"
     ]
    }
   ],
   "source": [
    "df_lk.join(df, df_lk.user_id == df.id, 'inner')\\\n",
    "    .select('last_name','name','patronymic')\\\n",
    "    .filter(df.tag == 'sports')\\\n",
    "    .show(5)"
   ]
  }
 ],
 "metadata": {
  "kernelspec": {
   "display_name": "Python 3.10.2 64-bit",
   "language": "python",
   "name": "python3"
  },
  "language_info": {
   "codemirror_mode": {
    "name": "ipython",
    "version": 3
   },
   "file_extension": ".py",
   "mimetype": "text/x-python",
   "name": "python",
   "nbconvert_exporter": "python",
   "pygments_lexer": "ipython3",
   "version": "3.10.2"
  },
  "orig_nbformat": 4,
  "vscode": {
   "interpreter": {
    "hash": "301a17a29b57d3836b7901af1621afd6d2b1f2298b9c7949191147cf2fea93e3"
   }
  }
 },
 "nbformat": 4,
 "nbformat_minor": 2
}
