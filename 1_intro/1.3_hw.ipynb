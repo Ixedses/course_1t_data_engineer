{
 "cells": [
  {
   "cell_type": "markdown",
   "metadata": {},
   "source": [
    "Практическая работа №2 Основы Python"
   ]
  },
  {
   "cell_type": "markdown",
   "metadata": {},
   "source": [
    "Задание 1.\n",
    "Необходимо спарсить данные о вакансиях python разработчиков с сайта hh.ru, введя в поиск “python разработчик” и указав, что мы рассматриваем все регионы"
   ]
  },
  {
   "cell_type": "code",
   "execution_count": 1,
   "metadata": {},
   "outputs": [],
   "source": [
    "import requests\n",
    "import pandas as pd\n",
    "\n",
    "number_of_pages = 100\n",
    "job_title = ['python разработчик']\n",
    "for job in job_title:\n",
    "    data=[]\n",
    "    for i in range(number_of_pages):\n",
    "        url = 'https://api.hh.ru/vacancies'\n",
    "        par = {'text': job, 'area':'113','per_page':'10', 'page':i}\n",
    "        r = requests.get(url, params=par)\n",
    "        e=r.json()\n",
    "        data.append(e)\n",
    "        vacancy_details = data[0]['items'][0].keys()\n",
    "        df = pd.DataFrame(columns= list(vacancy_details))\n",
    "        ind = 0\n",
    "        for i in range(len(data)):\n",
    "            for j in range(len(data[i]['items'])):\n",
    "                df.loc[ind] = data[i]['items'][j]\n",
    "                ind+=1"
   ]
  },
  {
   "cell_type": "code",
   "execution_count": 2,
   "metadata": {},
   "outputs": [
    {
     "data": {
      "text/html": [
       "<div>\n",
       "<style scoped>\n",
       "    .dataframe tbody tr th:only-of-type {\n",
       "        vertical-align: middle;\n",
       "    }\n",
       "\n",
       "    .dataframe tbody tr th {\n",
       "        vertical-align: top;\n",
       "    }\n",
       "\n",
       "    .dataframe thead th {\n",
       "        text-align: right;\n",
       "    }\n",
       "</style>\n",
       "<table border=\"1\" class=\"dataframe\">\n",
       "  <thead>\n",
       "    <tr style=\"text-align: right;\">\n",
       "      <th></th>\n",
       "      <th>title</th>\n",
       "      <th>work experience</th>\n",
       "      <th>salary</th>\n",
       "      <th>region</th>\n",
       "    </tr>\n",
       "  </thead>\n",
       "  <tbody>\n",
       "    <tr>\n",
       "      <th>0</th>\n",
       "      <td>Разработчик Solidity/Разработчик Rust/Разработ...</td>\n",
       "      <td>От 3 до 6 лет</td>\n",
       "      <td>NaN</td>\n",
       "      <td>Москва</td>\n",
       "    </tr>\n",
       "    <tr>\n",
       "      <th>1</th>\n",
       "      <td>Разработчик Python</td>\n",
       "      <td>От 1 года до 3 лет</td>\n",
       "      <td>200000.0</td>\n",
       "      <td>Москва</td>\n",
       "    </tr>\n",
       "    <tr>\n",
       "      <th>2</th>\n",
       "      <td>Backend Python Developer</td>\n",
       "      <td>От 3 до 6 лет</td>\n",
       "      <td>360000.0</td>\n",
       "      <td>Москва</td>\n",
       "    </tr>\n",
       "    <tr>\n",
       "      <th>3</th>\n",
       "      <td>Разработчик C# / Python</td>\n",
       "      <td>От 3 до 6 лет</td>\n",
       "      <td>500000.0</td>\n",
       "      <td>Москва</td>\n",
       "    </tr>\n",
       "    <tr>\n",
       "      <th>4</th>\n",
       "      <td>Python Developer (Remote)</td>\n",
       "      <td>От 3 до 6 лет</td>\n",
       "      <td>350000.0</td>\n",
       "      <td>Москва</td>\n",
       "    </tr>\n",
       "    <tr>\n",
       "      <th>...</th>\n",
       "      <td>...</td>\n",
       "      <td>...</td>\n",
       "      <td>...</td>\n",
       "      <td>...</td>\n",
       "    </tr>\n",
       "    <tr>\n",
       "      <th>364</th>\n",
       "      <td>Преподаватель программирования</td>\n",
       "      <td>От 1 года до 3 лет</td>\n",
       "      <td>NaN</td>\n",
       "      <td>Астрахань</td>\n",
       "    </tr>\n",
       "    <tr>\n",
       "      <th>365</th>\n",
       "      <td>Senior Backend Engineer (Kotlin/C++/Python) at...</td>\n",
       "      <td>От 3 до 6 лет</td>\n",
       "      <td>NaN</td>\n",
       "      <td>Москва</td>\n",
       "    </tr>\n",
       "    <tr>\n",
       "      <th>366</th>\n",
       "      <td>Junior C++ Game Developer</td>\n",
       "      <td>От 1 года до 3 лет</td>\n",
       "      <td>NaN</td>\n",
       "      <td>Санкт-Петербург</td>\n",
       "    </tr>\n",
       "    <tr>\n",
       "      <th>367</th>\n",
       "      <td>Преподаватель программирования в онлайн-школу ...</td>\n",
       "      <td>От 1 года до 3 лет</td>\n",
       "      <td>55000.0</td>\n",
       "      <td>Санкт-Петербург</td>\n",
       "    </tr>\n",
       "    <tr>\n",
       "      <th>368</th>\n",
       "      <td>Team lead Data Scientist</td>\n",
       "      <td>Более 6 лет</td>\n",
       "      <td>NaN</td>\n",
       "      <td>Москва</td>\n",
       "    </tr>\n",
       "  </tbody>\n",
       "</table>\n",
       "<p>369 rows × 4 columns</p>\n",
       "</div>"
      ],
      "text/plain": [
       "                                                 title     work experience  \\\n",
       "0    Разработчик Solidity/Разработчик Rust/Разработ...       От 3 до 6 лет   \n",
       "1                                   Разработчик Python  От 1 года до 3 лет   \n",
       "2                             Backend Python Developer       От 3 до 6 лет   \n",
       "3                              Разработчик C# / Python       От 3 до 6 лет   \n",
       "4                            Python Developer (Remote)       От 3 до 6 лет   \n",
       "..                                                 ...                 ...   \n",
       "364                     Преподаватель программирования  От 1 года до 3 лет   \n",
       "365  Senior Backend Engineer (Kotlin/C++/Python) at...       От 3 до 6 лет   \n",
       "366                          Junior C++ Game Developer  От 1 года до 3 лет   \n",
       "367  Преподаватель программирования в онлайн-школу ...  От 1 года до 3 лет   \n",
       "368                           Team lead Data Scientist         Более 6 лет   \n",
       "\n",
       "       salary           region  \n",
       "0         NaN           Москва  \n",
       "1    200000.0           Москва  \n",
       "2    360000.0           Москва  \n",
       "3    500000.0           Москва  \n",
       "4    350000.0           Москва  \n",
       "..        ...              ...  \n",
       "364       NaN        Астрахань  \n",
       "365       NaN           Москва  \n",
       "366       NaN  Санкт-Петербург  \n",
       "367   55000.0  Санкт-Петербург  \n",
       "368       NaN           Москва  \n",
       "\n",
       "[369 rows x 4 columns]"
      ]
     },
     "execution_count": 2,
     "metadata": {},
     "output_type": "execute_result"
    }
   ],
   "source": [
    "all_refs = list(map(lambda x: 'https://api.hh.ru/vacancies/' + x, df['id']))\n",
    "data1=[]\n",
    "for i in all_refs:\n",
    "    r = requests.get(i)\n",
    "    e=r.json()\n",
    "    try:\n",
    "        data1.append([e['name'], e['experience']['name'], e['salary']['to'], e['area']['name']])\n",
    "    except:\n",
    "        pass\n",
    "\n",
    "df1 = pd.DataFrame(data1, columns = ['title', 'work experience', 'salary', 'region'])\n",
    "df1"
   ]
  },
  {
   "cell_type": "markdown",
   "metadata": {},
   "source": [
    "Задание 2. Палиндром строки"
   ]
  },
  {
   "cell_type": "code",
   "execution_count": 3,
   "metadata": {},
   "outputs": [
    {
     "name": "stdout",
     "output_type": "stream",
     "text": [
      "Является ли taco cat палиндромом?\n",
      "yes\n",
      "Является ли rotator палиндромом?\n",
      "yes\n",
      "Является ли black cat палиндромом?\n",
      "no\n"
     ]
    }
   ],
   "source": [
    "x = ['taco cat', 'rotator', 'black cat']\n",
    "for polin in x:\n",
    "    a = polin[::-1].replace(\" \", \"\")\n",
    "    if polin.replace(\" \", \"\") == a:\n",
    "        print(f'Является ли {polin} палиндромом?\\nyes')\n",
    "    else:\n",
    "        print(f'Является ли {polin} палиндромом?\\nno')"
   ]
  },
  {
   "cell_type": "markdown",
   "metadata": {},
   "source": [
    "Задание 3. Перевод арабского числа в римское"
   ]
  },
  {
   "cell_type": "code",
   "execution_count": 4,
   "metadata": {},
   "outputs": [
    {
     "name": "stdout",
     "output_type": "stream",
     "text": [
      "MCMXLV"
     ]
    }
   ],
   "source": [
    "#x = 3\n",
    "#x = 9\n",
    "x = 1945\n",
    "\n",
    "arabic = [1, 4, 5, 9, 10, 40, 50, 90,\n",
    "    100, 400, 500, 900, 1000]\n",
    "roman = [\"I\", \"IV\", \"V\", \"IX\", \"X\", \"XL\",\\\n",
    "    \"L\", \"XC\", \"C\", \"CD\", \"D\", \"CM\", \"M\"]\n",
    "i = 12\n",
    "      \n",
    "while x:\n",
    "    div = x // arabic[i]\n",
    "    x %= arabic[i]  \n",
    "    while div:\n",
    "        print(roman[i], end = \"\")\n",
    "        div -= 1\n",
    "    i -= 1\n"
   ]
  },
  {
   "cell_type": "markdown",
   "metadata": {},
   "source": [
    "Задание 4. Валидность скобок"
   ]
  },
  {
   "cell_type": "code",
   "execution_count": 5,
   "metadata": {},
   "outputs": [
    {
     "name": "stdout",
     "output_type": "stream",
     "text": [
      "True\n",
      "False\n",
      "False\n"
     ]
    }
   ],
   "source": [
    "def paraCheck(x):\n",
    "   while True:\n",
    "       if '()' in x :\n",
    "           x = x.replace ( '()' , '' )\n",
    "       elif '{}' in x :\n",
    "           x = x.replace ( '{}' , '' )\n",
    "       elif '[]' in x :\n",
    "           x = x.replace ( '[]' , '' )\n",
    "       else :\n",
    "           return not x\n",
    "\n",
    "x = '[{}({})]'\n",
    "print(f'{paraCheck(x)}')\n",
    "x1 = '{]'\n",
    "print(f'{paraCheck (x1)}')\n",
    "x2 = '{'\n",
    "print(f'{paraCheck (x2)}')"
   ]
  },
  {
   "cell_type": "markdown",
   "metadata": {},
   "source": [
    "Задание 5. Умножить два бинарных числа в формате строк"
   ]
  },
  {
   "cell_type": "code",
   "execution_count": 6,
   "metadata": {},
   "outputs": [
    {
     "name": "stdout",
     "output_type": "stream",
     "text": [
      "100011\n"
     ]
    }
   ],
   "source": [
    "x1 = '111'\n",
    "x2= '101'\n",
    "number = bin((int(x1,2) * int(x2,2)))\n",
    "print(number[2:])"
   ]
  }
 ],
 "metadata": {
  "kernelspec": {
   "display_name": "Python 3.10.2 64-bit",
   "language": "python",
   "name": "python3"
  },
  "language_info": {
   "codemirror_mode": {
    "name": "ipython",
    "version": 3
   },
   "file_extension": ".py",
   "mimetype": "text/x-python",
   "name": "python",
   "nbconvert_exporter": "python",
   "pygments_lexer": "ipython3",
   "version": "3.10.2"
  },
  "orig_nbformat": 4,
  "vscode": {
   "interpreter": {
    "hash": "301a17a29b57d3836b7901af1621afd6d2b1f2298b9c7949191147cf2fea93e3"
   }
  }
 },
 "nbformat": 4,
 "nbformat_minor": 2
}
